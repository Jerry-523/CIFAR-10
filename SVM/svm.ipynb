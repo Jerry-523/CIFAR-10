{
 "cells": [
  {
   "cell_type": "code",
   "execution_count": 1,
   "metadata": {},
   "outputs": [],
   "source": [
    "import os\n",
    "import numpy as np\n",
    "import pickle\n",
    "from sklearn.model_selection import train_test_split\n",
    "from sklearn.svm import SVC\n",
    "from sklearn.metrics import accuracy_score\n",
    "import matplotlib.pyplot as plt"
   ]
  },
  {
   "cell_type": "code",
   "execution_count": null,
   "metadata": {},
   "outputs": [],
   "source": [
    "def unpickle(file):\n",
    "    try:\n",
    "        with open(file, 'rb') as f:\n",
    "            data = pickle.load(f, encoding=\"latin1\")\n",
    "        return data\n",
    "    except Exception as e:\n",
    "        print(f\"Erro ao carregar o arquivo {file}: {e}\")\n",
    "        raise\n",
    "\n",
    "def load_training_data(dataset_path):\n",
    "    num_files = 5\n",
    "    num_images_per_file = 10000\n",
    "\n",
    "    train_images = np.zeros([num_files * num_images_per_file, 3072])\n",
    "    train_labels = np.zeros([num_files * num_images_per_file])\n",
    "\n",
    "    for i in range(1, num_files + 1):\n",
    "        path = os.path.join(dataset_path, f\"data_batch_{i}\")\n",
    "        data_dict = unpickle(path)\n",
    "        start = (i - 1) * num_images_per_file\n",
    "        end = i * num_images_per_file\n",
    "        train_images[start:end, :] = data_dict[\"data\"]\n",
    "        train_labels[start:end] = data_dict[\"labels\"]\n",
    "\n",
    "    return np.asarray(train_images, dtype=int), np.asarray(train_labels, dtype=int)\n",
    "\n",
    "def load_test_data(dataset_path):\n",
    "    path = os.path.join(dataset_path, \"test_batch\")\n",
    "    datadict = unpickle(path)\n",
    "    test_images = datadict[\"data\"]\n",
    "    test_labels = datadict[\"labels\"]\n",
    "    return np.asarray(test_images, dtype=int), np.asarray(test_labels, dtype=int)\n",
    "\n",
    "def visualize(images, labels, n_rows=2, n_cols=5):\n",
    "    fig, axes = plt.subplots(n_rows, n_cols, figsize=(12, 6))\n",
    "    for i in range(n_rows):\n",
    "        for j in range(n_cols):\n",
    "            index = i * n_cols + j\n",
    "            axes[i, j].imshow(images[index].reshape(32, 32, 3) / 255.0)\n",
    "            axes[i, j].axis('off')\n",
    "            axes[i, j].set_title(f\"Label: {labels[index]}\")\n",
    "    plt.show()"
   ]
  },
  {
   "cell_type": "code",
   "execution_count": null,
   "metadata": {},
   "outputs": [],
   "source": [
    "# Carregamento de dados\n",
    "dataset_path = \"../cifar-10-batches-py\"\n",
    "train_images, train_labels = load_training_data(dataset_path)\n",
    "test_images, test_labels = load_test_data(dataset_path)"
   ]
  },
  {
   "cell_type": "code",
   "execution_count": null,
   "metadata": {},
   "outputs": [],
   "source": [
    "# Divisão dos dados de treinamento\n",
    "train_images, val_images, train_labels, val_labels = train_test_split(\n",
    "    train_images, train_labels, test_size=0.1, random_state=42\n",
    ")"
   ]
  },
  {
   "cell_type": "code",
   "execution_count": null,
   "metadata": {},
   "outputs": [],
   "source": [
    "# Treinamento do modelo SVM\n",
    "svm_model = SVC(kernel='linear', C=1.0)\n",
    "svm_model.fit(train_images, train_labels)"
   ]
  },
  {
   "cell_type": "code",
   "execution_count": null,
   "metadata": {},
   "outputs": [],
   "source": [
    "# Previsões no conjunto de testes\n",
    "predicted_labels = svm_model.predict(test_images)"
   ]
  },
  {
   "cell_type": "code",
   "execution_count": null,
   "metadata": {},
   "outputs": [],
   "source": [
    "# Avaliação da precisão\n",
    "accuracy = accuracy_score(test_labels, predicted_labels)\n",
    "print(\"SVM accuracy for CIFAR-10 =\", accuracy)"
   ]
  },
  {
   "cell_type": "code",
   "execution_count": null,
   "metadata": {},
   "outputs": [],
   "source": [
    "# Visualização de algumas imagens do conjunto de testes\n",
    "visualize(test_images, predicted_labels)"
   ]
  }
 ],
 "metadata": {
  "kernelspec": {
   "display_name": "Python 3",
   "language": "python",
   "name": "python3"
  },
  "language_info": {
   "codemirror_mode": {
    "name": "ipython",
    "version": 3
   },
   "file_extension": ".py",
   "mimetype": "text/x-python",
   "name": "python",
   "nbconvert_exporter": "python",
   "pygments_lexer": "ipython3",
   "version": "3.11.2"
  }
 },
 "nbformat": 4,
 "nbformat_minor": 2
}
