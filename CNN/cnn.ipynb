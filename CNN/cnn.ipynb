{
 "cells": [
  {
   "cell_type": "code",
   "execution_count": 2,
   "metadata": {},
   "outputs": [
    {
     "name": "stderr",
     "output_type": "stream",
     "text": [
      "2024-01-29 16:25:27.406579: I external/local_tsl/tsl/cuda/cudart_stub.cc:31] Could not find cuda drivers on your machine, GPU will not be used.\n",
      "2024-01-29 16:25:29.191433: E external/local_xla/xla/stream_executor/cuda/cuda_dnn.cc:9261] Unable to register cuDNN factory: Attempting to register factory for plugin cuDNN when one has already been registered\n",
      "2024-01-29 16:25:29.191485: E external/local_xla/xla/stream_executor/cuda/cuda_fft.cc:607] Unable to register cuFFT factory: Attempting to register factory for plugin cuFFT when one has already been registered\n",
      "2024-01-29 16:25:29.355057: E external/local_xla/xla/stream_executor/cuda/cuda_blas.cc:1515] Unable to register cuBLAS factory: Attempting to register factory for plugin cuBLAS when one has already been registered\n",
      "2024-01-29 16:25:29.784636: I external/local_tsl/tsl/cuda/cudart_stub.cc:31] Could not find cuda drivers on your machine, GPU will not be used.\n",
      "2024-01-29 16:25:33.309378: W tensorflow/compiler/tf2tensorrt/utils/py_utils.cc:38] TF-TRT Warning: Could not find TensorRT\n"
     ]
    }
   ],
   "source": [
    "import os\n",
    "import numpy as np\n",
    "import pickle\n",
    "from sklearn.model_selection import train_test_split\n",
    "import tensorflow as tf\n",
    "from sklearn.metrics import accuracy_score\n",
    "import matplotlib.pyplot as plt"
   ]
  },
  {
   "cell_type": "code",
   "execution_count": 3,
   "metadata": {},
   "outputs": [],
   "source": [
    "def unpickle(file):\n",
    "    try:\n",
    "        with open(file, 'rb') as f:\n",
    "            data = pickle.load(f, encoding=\"latin1\")\n",
    "        return data\n",
    "    except Exception as e:\n",
    "        print(f\"Erro ao carregar o arquivo {file}: {e}\")\n",
    "        raise\n",
    "\n",
    "def load_training_data(dataset_path):\n",
    "    num_files = 5\n",
    "    num_images_per_file = 10000\n",
    "\n",
    "    train_images = np.zeros([num_files * num_images_per_file, 3072])\n",
    "    train_labels = np.zeros([num_files * num_images_per_file])\n",
    "\n",
    "    for i in range(1, num_files + 1):\n",
    "        path = os.path.join(dataset_path, f\"data_batch_{i}\")\n",
    "        data_dict = unpickle(path)\n",
    "        start = (i - 1) * num_images_per_file\n",
    "        end = i * num_images_per_file\n",
    "        train_images[start:end, :] = data_dict[\"data\"]\n",
    "        train_labels[start:end] = data_dict[\"labels\"]\n",
    "\n",
    "    return np.asarray(train_images, dtype=int), np.asarray(train_labels, dtype=int)\n",
    "\n",
    "def load_test_data(dataset_path):\n",
    "    path = os.path.join(dataset_path, \"test_batch\")\n",
    "    datadict = unpickle(path)\n",
    "    test_images = datadict[\"data\"]\n",
    "    test_labels = datadict[\"labels\"]\n",
    "    return np.asarray(test_images, dtype=int), np.asarray(test_labels, dtype=int)\n",
    "\n",
    "def visualize(images, labels, n_rows=2, n_cols=5):\n",
    "    fig, axes = plt.subplots(n_rows, n_cols, figsize=(12, 6))\n",
    "    for i in range(n_rows):\n",
    "        for j in range(n_cols):\n",
    "            index = i * n_cols + j\n",
    "            axes[i, j].imshow(images[index].reshape(32, 32, 3) / 255.0)\n",
    "            axes[i, j].axis('off')\n",
    "            axes[i, j].set_title(f\"Label: {labels[index]}\")\n",
    "    plt.show()"
   ]
  },
  {
   "cell_type": "code",
   "execution_count": 4,
   "metadata": {},
   "outputs": [],
   "source": [
    "# Carregamento de dados\n",
    "dataset_path = \"../cifar-10-batches-py\"\n",
    "train_images, train_labels = load_training_data(dataset_path)\n",
    "test_images, test_labels = load_test_data(dataset_path)"
   ]
  },
  {
   "cell_type": "code",
   "execution_count": 5,
   "metadata": {},
   "outputs": [],
   "source": [
    "# Normalização de imagens\n",
    "train_images = train_images / 255.0\n",
    "test_images = test_images / 255.0"
   ]
  },
  {
   "cell_type": "code",
   "execution_count": 6,
   "metadata": {},
   "outputs": [],
   "source": [
    "# Divisão dos dados de treinamento\n",
    "train_images, val_images, train_labels, val_labels = train_test_split(\n",
    "    train_images, train_labels, test_size=0.1, random_state=42\n",
    ")"
   ]
  },
  {
   "cell_type": "code",
   "execution_count": 10,
   "metadata": {},
   "outputs": [],
   "source": [
    "# Remodelar os dados para o formato de imagem\n",
    "train_images = train_images.reshape((-1, 32, 32, 3))\n",
    "val_images = val_images.reshape((-1, 32, 32, 3))\n",
    "test_images = test_images.reshape((-1, 32, 32, 3))"
   ]
  },
  {
   "cell_type": "code",
   "execution_count": 11,
   "metadata": {},
   "outputs": [],
   "source": [
    "# Construção do modelo de rede neural de duas camadas com TensorFlow\n",
    "model = tf.keras.Sequential([\n",
    "    tf.keras.layers.Flatten(input_shape=(32, 32, 3)),\n",
    "    tf.keras.layers.Dense(256, activation='relu'),\n",
    "    tf.keras.layers.Dense(10, activation='softmax')\n",
    "])"
   ]
  },
  {
   "cell_type": "code",
   "execution_count": 12,
   "metadata": {},
   "outputs": [],
   "source": [
    "# Compilação do modelo\n",
    "model.compile(optimizer='adam',\n",
    "              loss='sparse_categorical_crossentropy',\n",
    "              metrics=['accuracy'])"
   ]
  },
  {
   "cell_type": "code",
   "execution_count": 13,
   "metadata": {},
   "outputs": [
    {
     "name": "stderr",
     "output_type": "stream",
     "text": [
      "2024-01-29 16:54:23.152459: W external/local_tsl/tsl/framework/cpu_allocator_impl.cc:83] Allocation of 552960000 exceeds 10% of free system memory.\n"
     ]
    },
    {
     "name": "stdout",
     "output_type": "stream",
     "text": [
      "Epoch 1/10\n",
      "1407/1407 [==============================] - 44s 25ms/step - loss: 1.8913 - accuracy: 0.3302 - val_loss: 1.7866 - val_accuracy: 0.3492\n",
      "Epoch 2/10\n",
      "1407/1407 [==============================] - 47s 34ms/step - loss: 1.7136 - accuracy: 0.3884 - val_loss: 1.6911 - val_accuracy: 0.3944\n",
      "Epoch 3/10\n",
      "1407/1407 [==============================] - 61s 43ms/step - loss: 1.6520 - accuracy: 0.4098 - val_loss: 1.6599 - val_accuracy: 0.4064\n",
      "Epoch 4/10\n",
      "1407/1407 [==============================] - 99s 70ms/step - loss: 1.6095 - accuracy: 0.4255 - val_loss: 1.6709 - val_accuracy: 0.4052\n",
      "Epoch 5/10\n",
      "1407/1407 [==============================] - 90s 64ms/step - loss: 1.5766 - accuracy: 0.4398 - val_loss: 1.6158 - val_accuracy: 0.4194\n",
      "Epoch 6/10\n",
      "1407/1407 [==============================] - 91s 64ms/step - loss: 1.5533 - accuracy: 0.4436 - val_loss: 1.6164 - val_accuracy: 0.4342\n",
      "Epoch 7/10\n",
      "1407/1407 [==============================] - 88s 63ms/step - loss: 1.5387 - accuracy: 0.4526 - val_loss: 1.6778 - val_accuracy: 0.4038\n",
      "Epoch 8/10\n",
      "1407/1407 [==============================] - 59s 42ms/step - loss: 1.5271 - accuracy: 0.4555 - val_loss: 1.6013 - val_accuracy: 0.4298\n",
      "Epoch 9/10\n",
      "1407/1407 [==============================] - 69s 49ms/step - loss: 1.5133 - accuracy: 0.4590 - val_loss: 1.6087 - val_accuracy: 0.4400\n",
      "Epoch 10/10\n",
      "1407/1407 [==============================] - 77s 55ms/step - loss: 1.5018 - accuracy: 0.4674 - val_loss: 1.6409 - val_accuracy: 0.4146\n"
     ]
    },
    {
     "data": {
      "text/plain": [
       "<keras.src.callbacks.History at 0x7f1b1567a650>"
      ]
     },
     "execution_count": 13,
     "metadata": {},
     "output_type": "execute_result"
    }
   ],
   "source": [
    "# Treinamento do modelo\n",
    "model.fit(train_images, train_labels, epochs=10, validation_data=(val_images, val_labels))"
   ]
  },
  {
   "cell_type": "code",
   "execution_count": 14,
   "metadata": {},
   "outputs": [
    {
     "name": "stdout",
     "output_type": "stream",
     "text": [
      "313/313 [==============================] - 1s 4ms/step - loss: 1.6185 - accuracy: 0.4273\n",
      "Accuracy on test set: 0.42730000615119934\n"
     ]
    }
   ],
   "source": [
    "# Avaliação da precisão no conjunto de testes\n",
    "test_loss, test_acc = model.evaluate(test_images, test_labels)\n",
    "print(\"Accuracy on test set:\", test_acc)"
   ]
  },
  {
   "cell_type": "code",
   "execution_count": 15,
   "metadata": {},
   "outputs": [
    {
     "name": "stdout",
     "output_type": "stream",
     "text": [
      "313/313 [==============================] - 5s 5ms/step\n"
     ]
    },
    {
     "data": {
      "image/png": "[encoded data removed]",
      "text/plain": [
       "<Figure size 1200x600 with 10 Axes>"
      ]
     },
     "metadata": {},
     "output_type": "display_data"
    }
   ],
   "source": [
    "# Visualização de algumas imagens do conjunto de testes com previsões\n",
    "predicted_labels = np.argmax(model.predict(test_images), axis=1)\n",
    "visualize(test_images, predicted_labels)\n"
   ]
  }
 ],
 "metadata": {
  "kernelspec": {
   "display_name": "Python 3",
   "language": "python",
   "name": "python3"
  },
  "language_info": {
   "codemirror_mode": {
    "name": "ipython",
    "version": 3
   },
   "file_extension": ".py",
   "mimetype": "text/x-python",
   "name": "python",
   "nbconvert_exporter": "python",
   "pygments_lexer": "ipython3",
   "version": "3.11.2"
  }
 },
 "nbformat": 4,
 "nbformat_minor": 2
}
