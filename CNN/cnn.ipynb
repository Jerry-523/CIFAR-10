{
 "cells": [
  {
   "cell_type": "code",
   "execution_count": 2,
   "metadata": {},
   "outputs": [
    {
     "name": "stderr",
     "output_type": "stream",
     "text": [
      "2024-01-30 09:16:42.605107: I external/local_tsl/tsl/cuda/cudart_stub.cc:31] Could not find cuda drivers on your machine, GPU will not be used.\n",
      "2024-01-30 09:16:45.701895: E external/local_xla/xla/stream_executor/cuda/cuda_dnn.cc:9261] Unable to register cuDNN factory: Attempting to register factory for plugin cuDNN when one has already been registered\n",
      "2024-01-30 09:16:45.701954: E external/local_xla/xla/stream_executor/cuda/cuda_fft.cc:607] Unable to register cuFFT factory: Attempting to register factory for plugin cuFFT when one has already been registered\n",
      "2024-01-30 09:16:45.864189: E external/local_xla/xla/stream_executor/cuda/cuda_blas.cc:1515] Unable to register cuBLAS factory: Attempting to register factory for plugin cuBLAS when one has already been registered\n",
      "2024-01-30 09:16:46.267862: I external/local_tsl/tsl/cuda/cudart_stub.cc:31] Could not find cuda drivers on your machine, GPU will not be used.\n",
      "2024-01-30 09:16:58.124344: W tensorflow/compiler/tf2tensorrt/utils/py_utils.cc:38] TF-TRT Warning: Could not find TensorRT\n"
     ]
    }
   ],
   "source": [
    "import os\n",
    "import numpy as np\n",
    "import pickle\n",
    "from sklearn.model_selection import train_test_split\n",
    "import tensorflow as tf\n",
    "from sklearn.metrics import accuracy_score\n",
    "import matplotlib.pyplot as plt"
   ]
  },
  {
   "cell_type": "code",
   "execution_count": 8,
   "metadata": {},
   "outputs": [],
   "source": [
    "def unpickle(file):\n",
    "    try:\n",
    "        with open(file, 'rb') as f:\n",
    "            data = pickle.load(f, encoding=\"latin1\")\n",
    "        return data\n",
    "    except Exception as e:\n",
    "        print(f\"Erro ao carregar o arquivo {file}: {e}\")\n",
    "        raise\n",
    "\n",
    "def load_training_data(dataset_path):\n",
    "    num_files = 5\n",
    "    num_images_per_file = 10000\n",
    "\n",
    "    train_images = np.zeros([num_files * num_images_per_file, 3072])\n",
    "    train_labels = np.zeros([num_files * num_images_per_file])\n",
    "\n",
    "    for i in range(1, num_files + 1):\n",
    "        path = os.path.join(dataset_path, f\"data_batch_{i}\")\n",
    "        data_dict = unpickle(path)\n",
    "        start = (i - 1) * num_images_per_file\n",
    "        end = i * num_images_per_file\n",
    "        train_images[start:end, :] = data_dict[\"data\"]\n",
    "        train_labels[start:end] = data_dict[\"labels\"]\n",
    "\n",
    "    return np.asarray(train_images, dtype=int), np.asarray(train_labels, dtype=int)\n",
    "\n",
    "def load_test_data(dataset_path):\n",
    "    path = os.path.join(dataset_path, \"test_batch\")\n",
    "    datadict = unpickle(path)\n",
    "    test_images = datadict[\"data\"]\n",
    "    test_labels = datadict[\"labels\"]\n",
    "    return np.asarray(test_images, dtype=int), np.asarray(test_labels, dtype=int)\n",
    "\n",
    "def visualize(images, labels, n_rows=2, n_cols=5):\n",
    "    fig, axes = plt.subplots(n_rows, n_cols, figsize=(12, 6))\n",
    "    for i in range(n_rows):\n",
    "        for j in range(n_cols):\n",
    "            index = i * n_cols + j\n",
    "            axes[i, j].imshow(images[index].reshape(32, 32, 3) / 255.0)\n",
    "            axes[i, j].axis('off')\n",
    "            axes[i, j].set_title(f\"Label: {labels[index]}\")\n",
    "    plt.show()"
   ]
  },
  {
   "cell_type": "code",
   "execution_count": 9,
   "metadata": {},
   "outputs": [],
   "source": [
    "# Carregamento de dados\n",
    "dataset_path = \"../cifar-10-batches-py\"\n",
    "train_images, train_labels = load_training_data(dataset_path)\n",
    "test_images, test_labels = load_test_data(dataset_path)"
   ]
  },
  {
   "cell_type": "code",
   "execution_count": 10,
   "metadata": {},
   "outputs": [],
   "source": [
    "# Normalização de imagens\n",
    "train_images = train_images / 255.0\n",
    "test_images = test_images / 255.0"
   ]
  },
  {
   "cell_type": "code",
   "execution_count": 11,
   "metadata": {},
   "outputs": [],
   "source": [
    "# Divisão dos dados de treinamento\n",
    "train_images, val_images, train_labels, val_labels = train_test_split(\n",
    "    train_images, train_labels, test_size=0.1, random_state=42\n",
    ")"
   ]
  },
  {
   "cell_type": "code",
   "execution_count": 12,
   "metadata": {},
   "outputs": [],
   "source": [
    "# Remodelar os dados para o formato de imagem\n",
    "train_images = train_images.reshape((-1, 32, 32, 3))\n",
    "val_images = val_images.reshape((-1, 32, 32, 3))\n",
    "test_images = test_images.reshape((-1, 32, 32, 3))"
   ]
  },
  {
   "cell_type": "code",
   "execution_count": 4,
   "metadata": {},
   "outputs": [],
   "source": [
    "# Construção do modelo de rede neural de duas camadas com TensorFlow\n",
    "model = tf.keras.Sequential([\n",
    "    tf.keras.layers.Flatten(input_shape=(32, 32, 3)),\n",
    "    tf.keras.layers.Dense(256, activation='relu'),\n",
    "    tf.keras.layers.Dense(10, activation='softmax')\n",
    "])"
   ]
  },
  {
   "cell_type": "code",
   "execution_count": 8,
   "metadata": {},
   "outputs": [],
   "source": [
    "# Compilação do modelo\n",
    "model.compile(optimizer='adam',\n",
    "              loss='sparse_categorical_crossentropy',\n",
    "              metrics=['accuracy'])"
   ]
  },
  {
   "cell_type": "code",
   "execution_count": 9,
   "metadata": {},
   "outputs": [
    {
     "name": "stderr",
     "output_type": "stream",
     "text": [
      "2024-01-29 23:41:41.845021: W external/local_tsl/tsl/framework/cpu_allocator_impl.cc:83] Allocation of 552960000 exceeds 10% of free system memory.\n"
     ]
    },
    {
     "name": "stdout",
     "output_type": "stream",
     "text": [
      "Epoch 1/10\n",
      "1407/1407 [==============================] - 40s 22ms/step - loss: 1.8923 - accuracy: 0.3260 - val_loss: 1.7834 - val_accuracy: 0.3640\n",
      "Epoch 2/10\n",
      "1407/1407 [==============================] - 40s 29ms/step - loss: 1.7224 - accuracy: 0.3834 - val_loss: 1.7746 - val_accuracy: 0.3584\n",
      "Epoch 3/10\n",
      "1407/1407 [==============================] - 40s 28ms/step - loss: 1.6661 - accuracy: 0.4044 - val_loss: 1.6725 - val_accuracy: 0.4010\n",
      "Epoch 4/10\n",
      "1407/1407 [==============================] - 54s 38ms/step - loss: 1.6281 - accuracy: 0.4178 - val_loss: 1.6354 - val_accuracy: 0.4174\n",
      "Epoch 5/10\n",
      "1407/1407 [==============================] - 32s 22ms/step - loss: 1.6034 - accuracy: 0.4291 - val_loss: 1.6646 - val_accuracy: 0.3976\n",
      "Epoch 6/10\n",
      "1407/1407 [==============================] - 30s 21ms/step - loss: 1.5842 - accuracy: 0.4368 - val_loss: 1.6142 - val_accuracy: 0.4234\n",
      "Epoch 7/10\n",
      "1407/1407 [==============================] - 29s 20ms/step - loss: 1.5638 - accuracy: 0.4464 - val_loss: 1.6129 - val_accuracy: 0.4156\n",
      "Epoch 8/10\n",
      "1407/1407 [==============================] - 29s 21ms/step - loss: 1.5466 - accuracy: 0.4474 - val_loss: 1.6572 - val_accuracy: 0.4090\n",
      "Epoch 9/10\n",
      "1407/1407 [==============================] - 31s 22ms/step - loss: 1.5370 - accuracy: 0.4528 - val_loss: 1.5826 - val_accuracy: 0.4328\n",
      "Epoch 10/10\n",
      "1407/1407 [==============================] - 43s 31ms/step - loss: 1.5224 - accuracy: 0.4593 - val_loss: 1.5796 - val_accuracy: 0.4328\n"
     ]
    },
    {
     "data": {
      "text/plain": [
       "<keras.src.callbacks.History at 0x7f886daf9490>"
      ]
     },
     "execution_count": 9,
     "metadata": {},
     "output_type": "execute_result"
    }
   ],
   "source": [
    "# Treinamento do modelo\n",
    "model.fit(train_images, train_labels, epochs=10, validation_data=(val_images, val_labels))"
   ]
  },
  {
   "cell_type": "code",
   "execution_count": 10,
   "metadata": {},
   "outputs": [
    {
     "name": "stdout",
     "output_type": "stream",
     "text": [
      "313/313 [==============================] - 2s 7ms/step - loss: 1.5459 - accuracy: 0.4549\n",
      "Accuracy on test set: 0.45489999651908875\n"
     ]
    }
   ],
   "source": [
    "# Avaliação da precisão no conjunto de testes\n",
    "test_loss, test_acc = model.evaluate(test_images, test_labels)\n",
    "print(\"Accuracy on test set:\", test_acc)"
   ]
  },
  {
   "cell_type": "markdown",
   "metadata": {},
   "source": [
    "Accuracy on test set: 0.45489999651908875"
   ]
  },
  {
   "cell_type": "code",
   "execution_count": 13,
   "metadata": {},
   "outputs": [
    {
     "name": "stderr",
     "output_type": "stream",
     "text": [
      "2024-01-30 09:21:11.512022: W external/local_tsl/tsl/framework/cpu_allocator_impl.cc:83] Allocation of 122880000 exceeds 10% of free system memory.\n"
     ]
    },
    {
     "name": "stdout",
     "output_type": "stream",
     "text": [
      "313/313 [==============================] - 10s 6ms/step\n"
     ]
    },
    {
     "data": {
      "image/png": "[encoded data removed]",
      "text/plain": [
       "<Figure size 1200x600 with 10 Axes>"
      ]
     },
     "metadata": {},
     "output_type": "display_data"
    }
   ],
   "source": [
    "# Visualização de algumas imagens do conjunto de testes com previsões\n",
    "predicted_labels = np.argmax(model.predict(test_images), axis=1)\n",
    "visualize(test_images, predicted_labels)\n"
   ]
  }
 ],
 "metadata": {
  "kernelspec": {
   "display_name": "Python 3",
   "language": "python",
   "name": "python3"
  },
  "language_info": {
   "codemirror_mode": {
    "name": "ipython",
    "version": 3
   },
   "file_extension": ".py",
   "mimetype": "text/x-python",
   "name": "python",
   "nbconvert_exporter": "python",
   "pygments_lexer": "ipython3",
   "version": "3.11.2"
  }
 },
 "nbformat": 4,
 "nbformat_minor": 2
}
